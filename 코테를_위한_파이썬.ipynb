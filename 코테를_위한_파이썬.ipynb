{
 "cells": [
  {
   "cell_type": "markdown",
   "metadata": {
    "colab_type": "text",
    "id": "_GGAgZpO4oD8"
   },
   "source": [
    "# 자료형\n",
    "- 수\n",
    "- 문자열\n",
    "- 리스트\n",
    "- 튜플\n",
    "- 딕셔너리\n",
    "- 집합\n"
   ]
  },
  {
   "cell_type": "markdown",
   "metadata": {
    "colab_type": "text",
    "id": "WMMTrulqDU9b"
   },
   "source": [
    "## 수\n",
    "- 정수형\n",
    "- 실수형\n",
    "- 연산"
   ]
  },
  {
   "cell_type": "code",
   "execution_count": 1,
   "metadata": {
    "colab": {
     "base_uri": "https://localhost:8080/",
     "height": 141
    },
    "colab_type": "code",
    "id": "YHy7m3Ap4fnO",
    "outputId": "85d77ca0-4d4e-4851-e64b-0387e9571e44"
   },
   "outputs": [
    {
     "name": "stdout",
     "output_type": "stream",
     "text": [
      "100\n",
      "0\n",
      "-100\n",
      "100.11\n",
      "-99.11\n",
      "100.0\n",
      "-0.99\n"
     ]
    }
   ],
   "source": [
    "num = 100\n",
    "print(num)\n",
    "\n",
    "num = 0\n",
    "print(num)\n",
    "\n",
    "num = -100\n",
    "print(num)\n",
    "\n",
    "real_num = 100.11\n",
    "print(real_num)\n",
    "\n",
    "real_num = -99.11\n",
    "print(real_num)\n",
    "\n",
    "real_num = 100.\n",
    "print(real_num)\n",
    "\n",
    "real_num = -.99\n",
    "print(real_num)"
   ]
  },
  {
   "cell_type": "code",
   "execution_count": 2,
   "metadata": {
    "colab": {
     "base_uri": "https://localhost:8080/",
     "height": 70
    },
    "colab_type": "code",
    "id": "TR3TsuYbD0tQ",
    "outputId": "a5557986-9d7a-473b-c9e8-4205b85b6637"
   },
   "outputs": [
    {
     "name": "stdout",
     "output_type": "stream",
     "text": [
      "1000000000.0\n",
      "1234.5\n",
      "1.2345\n"
     ]
    }
   ],
   "source": [
    "# 차수 표현식\n",
    "num = 1e9 # 10억 (실수)\n",
    "print(num)\n",
    "\n",
    "num = 123.45e1  # 1234.5\n",
    "print(num)\n",
    "\n",
    "num = 123.45e-2 # 1.2345\n",
    "print(num)"
   ]
  },
  {
   "cell_type": "code",
   "execution_count": 3,
   "metadata": {
    "colab": {
     "base_uri": "https://localhost:8080/",
     "height": 87
    },
    "colab_type": "code",
    "id": "WAnDCvjFH39J",
    "outputId": "d34a80d6-ec02-426b-9253-a52e59e3d5fe"
   },
   "outputs": [
    {
     "name": "stdout",
     "output_type": "stream",
     "text": [
      "1.6\n",
      "3\n",
      "1\n",
      "32768\n"
     ]
    }
   ],
   "source": [
    "# 연산\n",
    "n1, n2 = 8, 5\n",
    "print(n1/n2)    # 나누기 (실수)\n",
    "print(n1%n2)    # 나머지 (정수)\n",
    "print(n1//n2)   # 몫     (정수)\n",
    "print(n1**n2)   # 거듭제곱"
   ]
  },
  {
   "cell_type": "code",
   "execution_count": 4,
   "metadata": {
    "colab": {
     "base_uri": "https://localhost:8080/",
     "height": 70
    },
    "colab_type": "code",
    "id": "6niMwEywI822",
    "outputId": "276bd90d-6c90-4881-fb1a-ffd5dd4d182a"
   },
   "outputs": [
    {
     "name": "stdout",
     "output_type": "stream",
     "text": [
      "<class 'int'>\n",
      "<class 'str'>\n",
      "<class 'float'>\n"
     ]
    }
   ],
   "source": [
    "# int to str, float\n",
    "n1 = 10\n",
    "print(type(10))\n",
    "print(type(str(10)))\n",
    "print(type(float(10)))"
   ]
  },
  {
   "cell_type": "markdown",
   "metadata": {
    "colab_type": "text",
    "id": "KqVqjAUGEM1u"
   },
   "source": [
    "실수의 경우, 컴퓨터에서는 정확한 값으로 표현하지 못한다는 것을 기억하자.\n",
    "즉, 0.8이라는 실수가 있다면 컴퓨터는 이 값을 정확히 0.8로 표현 내지 저장하지 못하고 0.7999999... 식으로 저장을 하게 된다.\n",
    "\n",
    "변수에 직접 실수를 대입하여 출력하는 것에서는 문제가 없지만 실수간 연산의 결과를 출력하거나 또는 실수간 연산을 어떠한 조건에 활용하는 경우 문제가 될 수 있다. \n",
    "\n",
    "꼭, 조건에 활용하고 싶은 경우가 있다면 연산 값을 원하는 예측값과의 차이가 오차범위 내 있다는 것을 확인하는 것으로써 조건에 활용할 수 있다. 또는 round 반올림 함수를 활용해 조건에 활용할 수 있다. (보통 파이썬 환경에서는 소숫점 5자리까지 확인해서 같으면 같은 수라고 판단한다고 한다)"
   ]
  },
  {
   "cell_type": "code",
   "execution_count": 5,
   "metadata": {
    "colab": {
     "base_uri": "https://localhost:8080/",
     "height": 87
    },
    "colab_type": "code",
    "id": "syGAv3smEHiE",
    "outputId": "7a105b6f-573f-4a5d-81f3-330976bb245e"
   },
   "outputs": [
    {
     "name": "stdout",
     "output_type": "stream",
     "text": [
      "0.8999999999999999\n",
      "실수가 정확히 연산되지 않았다.\n",
      "실수가 정확히 연산된다.\n",
      "실수가 정확히 연산된다.\n"
     ]
    }
   ],
   "source": [
    "n1, n2 = 0.3, 0.6\n",
    "print(n1+n2) # not 0.9\n",
    "\n",
    "if n1+n2 == 0.9:\n",
    "    print('실수가 정확히 연산된다.')\n",
    "else:\n",
    "    print('실수가 정확히 연산되지 않았다.')\n",
    "\n",
    "# 연산 값과 예측 값의 차에 오차범위를 활용\n",
    "if n1+n2 - 0.9 < 0.000001:\n",
    "    print('실수가 정확히 연산된다.')\n",
    "else:\n",
    "    print('실수가 정확히 연산되지 않았다.')\n",
    "\n",
    "# round 사용\n",
    "if round(n1+n2, 4) == 0.9:\n",
    "    print('실수가 정확히 연산된다.')\n",
    "else:\n",
    "    print('실수가 정확히 연산되지 않았다.')"
   ]
  },
  {
   "cell_type": "markdown",
   "metadata": {
    "colab_type": "text",
    "id": "Qdv6UHjyIRNr"
   },
   "source": [
    "## 문자열\n",
    "- 초기화\n",
    "- 연산\n"
   ]
  },
  {
   "cell_type": "code",
   "execution_count": 6,
   "metadata": {
    "colab": {
     "base_uri": "https://localhost:8080/",
     "height": 70
    },
    "colab_type": "code",
    "id": "tTwfhtmdIhZ2",
    "outputId": "5c8bbdf5-1166-475f-e782-f8a4a2a74ed5"
   },
   "outputs": [
    {
     "name": "stdout",
     "output_type": "stream",
     "text": [
      "Hello Python\n",
      "Hello Python\n",
      "Hello \"Python\"\n"
     ]
    }
   ],
   "source": [
    "s = 'Hello Python'\n",
    "print(s)\n",
    "\n",
    "# same\n",
    "s = \"Hello Python\"\n",
    "print(s)\n",
    "\n",
    "s = 'Hello \\\"Python\\\"'\n",
    "print(s)"
   ]
  },
  {
   "cell_type": "code",
   "execution_count": 7,
   "metadata": {
    "colab": {
     "base_uri": "https://localhost:8080/",
     "height": 105
    },
    "colab_type": "code",
    "id": "rSXCcsISFGMc",
    "outputId": "078a0014-2139-434a-db02-e2929191acf0"
   },
   "outputs": [
    {
     "name": "stdout",
     "output_type": "stream",
     "text": [
      "Hello Python\n",
      "ERROR: unsupported operand type(s) for -: 'str' and 'str'\n",
      "Hello Hello Hello Hello Hello Hello Hello Hello Hello Hello \n",
      "Python\n",
      "Hello\n"
     ]
    }
   ],
   "source": [
    "# string add\n",
    "s1 = 'Hello'\n",
    "s2 = \"Python\"\n",
    "s = s1 + ' ' + s2\n",
    "print(s)\n",
    "\n",
    "# string subtract : 불가능\n",
    "s1 = 'Hello'\n",
    "s2 = 'Hello'\n",
    "try:\n",
    "    print(s1-s2)\n",
    "except Exception as e:\n",
    "    print(\"ERROR:\", e)\n",
    "\n",
    "# string multiply\n",
    "s1 = 'Hello '\n",
    "s = s1 * 10\n",
    "print(s)\n",
    "\n",
    "# slicing\n",
    "s = 'Hello Python'\n",
    "print(s[6:])\n",
    "print(s[0:5])"
   ]
  },
  {
   "cell_type": "markdown",
   "metadata": {
    "colab_type": "text",
    "id": "pA9H0wiBIaWk"
   },
   "source": [
    "## 리스트\n",
    "- 초기화\n",
    "- 인덱싱, 슬라이싱\n",
    "- 컴프리헨션\n",
    "- 내장 메서드"
   ]
  },
  {
   "cell_type": "code",
   "execution_count": 8,
   "metadata": {
    "colab": {
     "base_uri": "https://localhost:8080/",
     "height": 87
    },
    "colab_type": "code",
    "id": "eQH2lv-MEq7u",
    "outputId": "7763e93b-c1b7-4398-cd03-4e3f018d9e3f"
   },
   "outputs": [
    {
     "name": "stdout",
     "output_type": "stream",
     "text": [
      "[]\n",
      "[]\n",
      "[1, 2, 3, 4, 5, 6]\n",
      "4\n"
     ]
    }
   ],
   "source": [
    "arr = list()\n",
    "print(arr)\n",
    "\n",
    "arr = []\n",
    "print(arr)\n",
    "\n",
    "arr = [1, 2, 3, 4, 5, 6]\n",
    "print(arr)\n",
    "print(arr[3])"
   ]
  },
  {
   "cell_type": "code",
   "execution_count": 9,
   "metadata": {
    "colab": {
     "base_uri": "https://localhost:8080/",
     "height": 141
    },
    "colab_type": "code",
    "id": "ak68e-OdPhTM",
    "outputId": "125a3647-63c4-41d1-ce50-b6baf1faefbb"
   },
   "outputs": [
    {
     "name": "stdout",
     "output_type": "stream",
     "text": [
      "[True, True, True, True, True, True, True, True, True, True]\n",
      "6\n",
      "4\n",
      "4\n",
      "[1, 2, 3, 4, 5, 6]\n",
      "[2, 3, 4]\n",
      "[6, 5, 4, 3, 2, 1]\n"
     ]
    }
   ],
   "source": [
    "n = 10\n",
    "arr = [True] * n\n",
    "print(arr)\n",
    "\n",
    "arr = [1, 2, 3, 4, 5, 6]\n",
    "print(arr[-1])    # 맨 마지막 원소\n",
    "print(arr[-3])    # 뒤에서 세 번째 원소\n",
    "print(arr[3])     # 앞에서 네 번째 원소\n",
    "\n",
    "print(arr)\n",
    "print(arr[1:4])\n",
    "print(arr[::-1]) # reverse"
   ]
  },
  {
   "cell_type": "code",
   "execution_count": 10,
   "metadata": {
    "colab": {
     "base_uri": "https://localhost:8080/",
     "height": 52
    },
    "colab_type": "code",
    "id": "Z0a8djezP9Iu",
    "outputId": "094be49b-06f4-44e4-b475-aa8a4e6de820"
   },
   "outputs": [
    {
     "name": "stdout",
     "output_type": "stream",
     "text": [
      "[0, 1, 2, 3, 4, 5, 6, 7, 8, 9, 10, 11, 12, 13, 14, 15, 16, 17, 18, 19]\n",
      "[1, 3, 5, 7, 9]\n"
     ]
    }
   ],
   "source": [
    "# List comprehension\n",
    "arr = [i for i in range(20)]\n",
    "print(arr)\n",
    "\n",
    "arr = [i for i in range(10) if i % 2]\n",
    "print(arr)"
   ]
  },
  {
   "cell_type": "code",
   "execution_count": 11,
   "metadata": {
    "colab": {
     "base_uri": "https://localhost:8080/",
     "height": 34
    },
    "colab_type": "code",
    "id": "-dWUT2LXQv6R",
    "outputId": "24e793c2-c724-44d8-df29-0ea069064b06"
   },
   "outputs": [
    {
     "name": "stdout",
     "output_type": "stream",
     "text": [
      "[[0, 0, 0, 0, 0, 0, 0], [0, 0, 0, 0, 0, 0, 0], [0, 0, 0, 0, 0, 0, 0], [0, 0, 0, 0, 0, 0, 0], [0, 0, 0, 0, 0, 0, 0]]\n"
     ]
    }
   ],
   "source": [
    "# List 2차원 배열(n X m) 만들기\n",
    "n, m = 5, 7\n",
    "arr = [[0] * m] * n\n",
    "print(arr)"
   ]
  },
  {
   "cell_type": "markdown",
   "metadata": {
    "colab_type": "text",
    "id": "xbXojaNNRDsS"
   },
   "source": [
    "메서드\n",
    "- append()\n",
    "- sort()\n",
    "- reverse()\n",
    "- insert()\n",
    "- count()\n",
    "- remove()\n",
    "\n",
    "https://www.w3schools.com/python/python_ref_list.asp  \n",
    "\n",
    "https://www.programiz.com/python-programming/methods/list"
   ]
  },
  {
   "cell_type": "code",
   "execution_count": 12,
   "metadata": {
    "colab": {
     "base_uri": "https://localhost:8080/",
     "height": 194
    },
    "colab_type": "code",
    "id": "ubYcn1r2RCNU",
    "outputId": "d2119678-b8e3-4a45-bc06-f0581c92d120"
   },
   "outputs": [
    {
     "name": "stdout",
     "output_type": "stream",
     "text": [
      "[1, 4, 3, 5]\n",
      "[1, 4, 3, 5, 2, 3, 3, 2, 2]\n",
      "[1, 2, 2, 2, 3, 3, 3, 4, 5]\n",
      "[5, 4, 3, 3, 3, 2, 2, 2, 1]\n",
      "[1, 2, 2, 2, 3, 3, 3, 4, 5]\n",
      "[1, 2, 9999, 2, 2, 3, 3, 3, 4, 5]\n",
      "3 3\n",
      "[1, 9999, 2, 2, 3, 3, 3, 4, 5]\n",
      "[1, 9999, 2, 3, 3, 3, 4, 5]\n",
      "[1, 9999, 2, 3, 3, 3, 4]\n"
     ]
    }
   ],
   "source": [
    "arr = [1,4,3,5]\n",
    "print(arr)\n",
    "\n",
    "arr.append(2)\n",
    "arr.append(3)\n",
    "arr.append(3)\n",
    "arr.append(2)\n",
    "arr.append(2)\n",
    "print(arr)\n",
    "\n",
    "arr.sort()\n",
    "print(arr)\n",
    "arr.sort(reverse=True)\n",
    "print(arr)\n",
    "\n",
    "arr.reverse()\n",
    "print(arr)\n",
    "\n",
    "arr.insert(2, 9999)\n",
    "print(arr)\n",
    "\n",
    "print(arr.count(2), arr.count(3))\n",
    "\n",
    "# 특정 값 삭제\n",
    "arr.remove(2)\n",
    "print(arr)\n",
    "\n",
    "# 특정 인덱스 데이터 삭제\n",
    "arr.pop(2) \n",
    "print(arr)\n",
    "arr.pop()\n",
    "print(arr)\n",
    "# pop의 경우, 최악의 경우 O(n)"
   ]
  },
  {
   "cell_type": "code",
   "execution_count": 13,
   "metadata": {
    "colab": {
     "base_uri": "https://localhost:8080/",
     "height": 87
    },
    "colab_type": "code",
    "id": "WsbwtQoOSX02",
    "outputId": "8cba330b-9a54-4ddd-d453-c7c53b79a82c"
   },
   "outputs": [
    {
     "name": "stdout",
     "output_type": "stream",
     "text": [
      "[[1, 2], [99, -1], [15, -99], [-1, 1000], [3, 1], [4, 3]]\n",
      "[[-1, 1000], [1, 2], [3, 1], [4, 3], [15, -99], [99, -1]]\n",
      "[[-1, 1000], [1, 2], [3, 1], [4, 3], [15, -99], [99, -1]]\n",
      "[[15, -99], [99, -1], [3, 1], [1, 2], [4, 3], [-1, 1000]]\n"
     ]
    }
   ],
   "source": [
    "arr = [[1, 2], [99, -1], [15, -99], [-1, 1000], [3, 1], [4, 3]]\n",
    "print(arr)\n",
    "\n",
    "arr.sort()\n",
    "print(arr)\n",
    "\n",
    "arr.sort(key=lambda x: x[0])\n",
    "print(arr)\n",
    "\n",
    "arr.sort(key=lambda x: x[1])\n",
    "print(arr)"
   ]
  },
  {
   "cell_type": "markdown",
   "metadata": {
    "colab_type": "text",
    "id": "TJNZTOkFT4Mz"
   },
   "source": [
    "## 튜플\n",
    "- 튜플은 리스트와 비슷함\n",
    "- 리스트는 소괄호를 이용해 표현.\n",
    "- 튜플은 한 번 선언된 값을 변경할 수 없다."
   ]
  },
  {
   "cell_type": "code",
   "execution_count": 14,
   "metadata": {
    "colab": {
     "base_uri": "https://localhost:8080/",
     "height": 52
    },
    "colab_type": "code",
    "id": "oBLPX1OQTS6-",
    "outputId": "485567b3-edbd-4337-ffc5-b36790abcb25"
   },
   "outputs": [
    {
     "name": "stdout",
     "output_type": "stream",
     "text": [
      "(1, 2, 3, 4)\n",
      "ERROR: 'tuple' object does not support item assignment\n"
     ]
    }
   ],
   "source": [
    "a = (1, 2, 3, 4)\n",
    "print(a)\n",
    "\n",
    "try:\n",
    "    a[2] = 3\n",
    "except Exception as e:\n",
    "    print('ERROR:', e)"
   ]
  },
  {
   "cell_type": "markdown",
   "metadata": {
    "colab_type": "text",
    "id": "5vQS62PoVtu4"
   },
   "source": [
    "## 딕셔너리형\n",
    "- json하고 비슷하다고 보면 된다.\n",
    "- key - value가 연결된 형태\n"
   ]
  },
  {
   "cell_type": "code",
   "execution_count": 15,
   "metadata": {
    "colab": {
     "base_uri": "https://localhost:8080/",
     "height": 283
    },
    "colab_type": "code",
    "id": "NFCKx82RTf0m",
    "outputId": "440c8bb7-7814-48fc-e68c-c81060c7c987"
   },
   "outputs": [
    {
     "name": "stdout",
     "output_type": "stream",
     "text": [
      "{'이름': 'bobae Kim', '성별': 'male', '나이': 'age', '학교': 'gachon'}\n",
      "bobae Kim\n",
      "male\n",
      "gachon\n",
      "ERROR: '몸무게'\n",
      "\n",
      "이름 bobae Kim\n",
      "성별 male\n",
      "나이 age\n",
      "학교 gachon\n",
      "\n",
      "bobae Kim\n",
      "male\n",
      "age\n",
      "gachon\n"
     ]
    }
   ],
   "source": [
    "d = dict()\n",
    "d['이름'] = 'bobae Kim'\n",
    "d['성별'] = 'male'\n",
    "d['나이'] = 'age'\n",
    "d['학교'] = 'gachon'\n",
    "\n",
    "print(d)\n",
    "\n",
    "print(d['이름'])\n",
    "print(d['성별'])\n",
    "print(d['학교'])\n",
    "try:\n",
    "    print(d['몸무게'])\n",
    "except Exception as e:\n",
    "    print(\"ERROR:\", e)\n",
    "\n",
    "print()\n",
    "\n",
    "for k in d.keys():\n",
    "    print(k, d[k])\n",
    "\n",
    "print()\n",
    "\n",
    "for v in d.values():\n",
    "    print(v)"
   ]
  },
  {
   "cell_type": "markdown",
   "metadata": {
    "colab_type": "text",
    "id": "UhCrZ6j_Xawc"
   },
   "source": [
    "## 집합\n",
    "- 중복허용 안함.\n",
    "- 순서가 없다."
   ]
  },
  {
   "cell_type": "code",
   "execution_count": 1,
   "metadata": {
    "colab": {
     "base_uri": "https://localhost:8080/",
     "height": 52
    },
    "colab_type": "code",
    "id": "So7-YsHyWDHa",
    "outputId": "e7664203-a453-4ccc-86fa-cebf3917270e"
   },
   "outputs": [
    {
     "name": "stdout",
     "output_type": "stream",
     "text": [
      "{1, 2, 3, 4, 5}\n",
      "{1, 2, 3}\n"
     ]
    }
   ],
   "source": [
    "s = set([1,2,3,4,5])\n",
    "print(s)\n",
    "\n",
    "s = set([1,1,1,1,1,1,2,2,2,2,3])\n",
    "print(s)"
   ]
  },
  {
   "cell_type": "code",
   "execution_count": 17,
   "metadata": {
    "colab": {
     "base_uri": "https://localhost:8080/",
     "height": 70
    },
    "colab_type": "code",
    "id": "5iDa_qoRXnSF",
    "outputId": "8e3b3075-cd26-4c30-b8a5-635cb8d785af"
   },
   "outputs": [
    {
     "name": "stdout",
     "output_type": "stream",
     "text": [
      "{1, 2, 3}\n",
      "{1}\n",
      "{2, 3}\n"
     ]
    }
   ],
   "source": [
    "s1 = s\n",
    "s2 = {1}\n",
    "\n",
    "# 합, 교, 차 집합\n",
    "print(s1 | s2)\n",
    "print(s1 & s2)\n",
    "print(s1 - s2)"
   ]
  },
  {
   "cell_type": "markdown",
   "metadata": {},
   "source": [
    "## Iterable 내장함수\n",
    "- zip: iterable 변수들의 요소들을 엮어준다.\n",
    "- all: iterable 변수의 모든 요소들이 참인 경우, True. 아니면 False.\n",
    "- any: iterable 변수의 요소들 중 하나라도 참이면, True. 아니면 False.\n"
   ]
  },
  {
   "cell_type": "code",
   "execution_count": 7,
   "metadata": {},
   "outputs": [
    {
     "name": "stdout",
     "output_type": "stream",
     "text": [
      "<zip object at 0x0000018E2E8B4EC8>\n",
      "('a', 1)\n",
      "('b', 2)\n",
      "('c', 3)\n",
      "True\n"
     ]
    }
   ],
   "source": [
    "# zip: iterable 변수들의 요소들을 엮어준다.\n",
    "# tuple 형태로 데이터를 엮어서 반환\n",
    "arr1 , arr2 = ['a', 'b', 'c'], (1, 2, 3)\n",
    "arr3 = zip(arr1, arr2)\n",
    "print(arr3) # zip object\n",
    "for e in arr3:\n",
    "    print(e)\n",
    "    \n",
    "# all: iterable 변수의 모든 요소들이 참인 경우, True. 아니면 False.\n",
    "arr = (1, 2, 3)\n",
    "res = all(arr)\n",
    "print(res)\n",
    "\n",
    "# any: iterable 변수의 요소들 중 하나라도 참이면, True. 아니면 False."
   ]
  },
  {
   "cell_type": "markdown",
   "metadata": {
    "colab_type": "text",
    "id": "AJVZDPMiYZa5"
   },
   "source": [
    "# 라이브러리\n",
    "\n",
    "### itertools\n",
    "`from itertools import permutations`  \n",
    "`from itertools import combinations`  \n",
    "`from itertools import product`  \n",
    "`from itertools import combinations_with_replacement`\n",
    "\n",
    "### heapq\n",
    "- heapq.heappush(list, value)\n",
    "- heapq.heappush(list, -value)\n",
    "- heapq.heappop(list)\n",
    "\n",
    "### bisect\n",
    "`from bisect import bisect_left`  \n",
    "`from bisect import bisect_right`  \n",
    "\n",
    "### collections\n",
    "`from collections import deque`\n",
    "- appendleft()\n",
    "- append()\n",
    "- pop()\n",
    "- popleft()\n",
    "  \n",
    "`from collections import Counter`  \n",
    "\n",
    "### math\n",
    "- math.factorial()\n",
    "- math.sqrt()\n",
    "- math.gcd()\n",
    "- math.pi\n",
    "- math.e"
   ]
  },
  {
   "attachments": {
    "image.png": {
     "image/png": "[encoded data removed]"
    }
   },
   "cell_type": "markdown",
   "metadata": {
    "colab": {},
    "colab_type": "code",
    "id": "Ed7rAuUcajgh"
   },
   "source": [
    "## 순열과 조합\n",
    "\n",
    "![image.png](attachment:image.png)\n"
   ]
  },
  {
   "attachments": {
    "image.png": {
     "image/png": "[encoded data removed]"
    }
   },
   "cell_type": "markdown",
   "metadata": {},
   "source": [
    "![image.png](attachment:image.png)"
   ]
  },
  {
   "cell_type": "code",
   "execution_count": 11,
   "metadata": {},
   "outputs": [
    {
     "name": "stdout",
     "output_type": "stream",
     "text": [
      "[('A', 'B'), ('A', 'C'), ('B', 'A'), ('B', 'C'), ('C', 'A'), ('C', 'B')]\n",
      "[('A', 'A'), ('A', 'B'), ('A', 'C'), ('B', 'A'), ('B', 'B'), ('B', 'C'), ('C', 'A'), ('C', 'B'), ('C', 'C')]\n"
     ]
    }
   ],
   "source": [
    "from itertools import permutations, product\n",
    "\n",
    "data = ['A', 'B', 'C']\n",
    "# 순열\n",
    "res = list(permutations(data, 2))\n",
    "print(res)\n",
    "\n",
    "# 중복순열\n",
    "res = list(product(data, repeat=2))\n",
    "print(res)"
   ]
  },
  {
   "cell_type": "code",
   "execution_count": 16,
   "metadata": {},
   "outputs": [
    {
     "name": "stdout",
     "output_type": "stream",
     "text": [
      "[('A', 'B'), ('A', 'C'), ('B', 'C')]\n",
      "[('A', 'A'), ('A', 'B'), ('A', 'C'), ('B', 'B'), ('B', 'C'), ('C', 'C')]\n"
     ]
    }
   ],
   "source": [
    "from itertools import combinations, combinations_with_replacement\n",
    "# 조합\n",
    "res = list(combinations(data, 2))\n",
    "print(res)\n",
    "\n",
    "# 중복조합\n",
    "res = list(combinations_with_replacement(data, 2))\n",
    "print(res)"
   ]
  },
  {
   "cell_type": "markdown",
   "metadata": {},
   "source": [
    "리스트 내 튜플 데이터를 붙여 문자열로 표현하고 싶다?\n",
    "  \n",
    "`map(''.join, itertools.permutations())`를 사용하자."
   ]
  },
  {
   "cell_type": "code",
   "execution_count": 17,
   "metadata": {},
   "outputs": [
    {
     "name": "stdout",
     "output_type": "stream",
     "text": [
      "['AA', 'AB', 'AC', 'BB', 'BC', 'CC']\n"
     ]
    }
   ],
   "source": [
    "print(list(map(''.join, res)))"
   ]
  },
  {
   "cell_type": "markdown",
   "metadata": {},
   "source": [
    "## deque\n",
    "- `append(x)`: right append\n",
    "- `appendleft(x)`: left append\n",
    "- `extend(iterable ...)`: iterable argument를 오른쪽에 추가\n",
    "- `extendleft(iterable ...)`: iterable argument를 왼쪽에 추가\n",
    "- `pop()`: right pop\n",
    "- `popleft()`: left pop\n",
    "- `rotate(n)`: n이 양수인 경우, 그 만큼 오른쪽으로 이동. n이 음수인 경우, 그 만큼 왼쪽으로 이동\n"
   ]
  },
  {
   "cell_type": "code",
   "execution_count": 21,
   "metadata": {},
   "outputs": [
    {
     "name": "stdout",
     "output_type": "stream",
     "text": [
      "deque(['a', 'b', 'c', 'd', 'e', 'f'])\n",
      "abcdef\n",
      "deque([1, 2, 3, 4, 5]) deque([5, 4, 3, 2, 1])\n",
      "deque([1, 2, 3, 4, 5, 'a', 'b', 'c', 'd', 'e', 'f', 1, 2, 3, 4, 5])\n"
     ]
    }
   ],
   "source": [
    "from collections import deque\n",
    "\n",
    "data = deque(['b', 'c', 'd', 'e'])\n",
    "data.appendleft('a')\n",
    "data.append('f')\n",
    "print(data)\n",
    "print(''.join(data))\n",
    "\n",
    "temp = [1,2,3,4,5]\n",
    "data2 = deque(temp)\n",
    "data3 = deque(temp[::-1])\n",
    "print(data2, data3)\n",
    "data.extend(data2)\n",
    "data.extendleft(data3)\n",
    "print(data)"
   ]
  }
 ],
 "metadata": {
  "colab": {
   "collapsed_sections": [
    "_GGAgZpO4oD8",
    "WMMTrulqDU9b",
    "Qdv6UHjyIRNr"
   ],
   "name": "코테를 위한 파이썬",
   "provenance": []
  },
  "kernelspec": {
   "display_name": "Python 3",
   "language": "python",
   "name": "python3"
  },
  "language_info": {
   "codemirror_mode": {
    "name": "ipython",
    "version": 3
   },
   "file_extension": ".py",
   "mimetype": "text/x-python",
   "name": "python",
   "nbconvert_exporter": "python",
   "pygments_lexer": "ipython3",
   "version": "3.7.3"
  }
 },
 "nbformat": 4,
 "nbformat_minor": 1
}
